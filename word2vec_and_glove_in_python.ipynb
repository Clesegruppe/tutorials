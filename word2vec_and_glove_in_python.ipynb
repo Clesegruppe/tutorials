{
 "cells": [
  {
   "cell_type": "code",
   "execution_count": 19,
   "metadata": {
    "collapsed": false
   },
   "outputs": [],
   "source": [
    "from __future__ import print_function\n",
    "import json, os, re, sys\n",
    "from datetime import datetime\n",
    "\n",
    "\n",
    "def print_log(*args):\n",
    "    now = datetime.now().strftime(\"%Y-%m-%d %H:%M:%S\")\n",
    "    print(now, *args)\n",
    "    sys.stdout.flush()\n"
   ]
  },
  {
   "cell_type": "markdown",
   "metadata": {},
   "source": [
    "# Getting a corpus"
   ]
  },
  {
   "cell_type": "code",
   "execution_count": 3,
   "metadata": {
    "collapsed": false
   },
   "outputs": [
    {
     "name": "stdout",
     "output_type": "stream",
     "text": [
      "['description', 'DESCR', 'filenames', 'target_names', 'data', 'target']\n",
      "('Number of categories:', 20)\n",
      "('Number of samples:', 18846)\n"
     ]
    }
   ],
   "source": [
    "from sklearn.datasets import fetch_20newsgroups\n",
    "newsgroups = fetch_20newsgroups(subset='all')\n",
    "\n",
    "print(newsgroups.keys())\n",
    "print(\"Number of categories:\", len(newsgroups.target_names))\n",
    "print(\"Number of samples:\", len(newsgroups.data))\n"
   ]
  },
  {
   "cell_type": "markdown",
   "metadata": {},
   "source": [
    "# Distribution of data"
   ]
  },
  {
   "cell_type": "code",
   "execution_count": 7,
   "metadata": {
    "collapsed": false
   },
   "outputs": [
    {
     "name": "stdout",
     "output_type": "stream",
     "text": [
      "999 ██████████████████████████████ rec.sport.hockey\n",
      "997 ██████████████████████████████ soc.religion.christian\n",
      "996 ██████████████████████████████ rec.motorcycles\n",
      "994 ██████████████████████████████ rec.sport.baseball\n",
      "991 ██████████████████████████████ sci.crypt\n",
      "990 ██████████████████████████████ rec.autos\n",
      "990 ██████████████████████████████ sci.med\n",
      "988 ██████████████████████████████ comp.windows.x\n",
      "987 ██████████████████████████████ sci.space\n",
      "985 ██████████████████████████████ comp.os.ms-windows.misc\n",
      "984 ██████████████████████████████ sci.electronics\n",
      "982 ██████████████████████████████ comp.sys.ibm.pc.hardware\n",
      "975 ██████████████████████████████ misc.forsale\n",
      "973 ██████████████████████████████ comp.graphics\n",
      "963  █████████████████████████████ comp.sys.mac.hardware\n",
      "940  █████████████████████████████ talk.politics.mideast\n",
      "910   ████████████████████████████ talk.politics.guns\n",
      "799       ████████████████████████ alt.atheism\n",
      "775       ████████████████████████ talk.politics.misc\n",
      "628            ███████████████████ talk.religion.misc\n"
     ]
    }
   ],
   "source": [
    "import math\n",
    "\n",
    "def print_bar_chart(data, maxbarlen=30, plotnull=True):\n",
    "    maxvalue = max([v for k, v in data])\n",
    "    maxvlen = len(unicode(maxvalue))\n",
    "    for k, v in data:\n",
    "        if v == 0 and not plotnull:\n",
    "            continue\n",
    "        bar = int(math.ceil((v / float(maxvalue)) * maxbarlen)) * u\"█\"\n",
    "        print((u\"%\" + unicode(maxvlen) + u\"s %\" + unicode(maxbarlen) + u\"s %s\") % (v, bar, k))\n",
    "        \n",
    "        \n",
    "from collections import Counter\n",
    "c = Counter(newsgroups.target)\n",
    "stats = sorted([(newsgroups.target_names[target], count) for (target, count) in c.iteritems()],\n",
    "               key=lambda x: (-x[1], x [0]))\n",
    "\n",
    "print_bar_chart(stats)"
   ]
  },
  {
   "cell_type": "markdown",
   "metadata": {},
   "source": [
    "# Gensim Word2Vec\n",
    "\n",
    "https://radimrehurek.com/gensim/models/word2vec.html\n"
   ]
  },
  {
   "cell_type": "markdown",
   "metadata": {
    "collapsed": true
   },
   "source": [
    "## Make a document iterator\n",
    "\n",
    "Gensim will use this multiple times:\n",
    "* to build the vocabulary\n",
    "* to do the training\n",
    "\n",
    "Gensim expects an iterable that will yield a list of tokens per document."
   ]
  },
  {
   "cell_type": "code",
   "execution_count": 63,
   "metadata": {
    "collapsed": false
   },
   "outputs": [],
   "source": [
    "tokenize = re.compile(r\"[^\\W_]+\", flags=re.UNICODE).findall\n",
    "\n",
    "class NewsgroupIterator():\n",
    "    \n",
    "    def __init__(self):\n",
    "        self.i = 1\n",
    "    \n",
    "    def __iter__(self):\n",
    "        print_log(\"start iteration\", self.i)\n",
    "        for text in newsgroups.data:        \n",
    "            yield tokenize(text.lower())\n",
    "        self.i += 1\n"
   ]
  },
  {
   "cell_type": "markdown",
   "metadata": {},
   "source": [
    "## Train a Word2Vec model\n",
    "\n",
    "[Word2Vec class doku](https://radimrehurek.com/gensim/models/word2vec.html#gensim.models.word2vec.Word2Vec)\n"
   ]
  },
  {
   "cell_type": "code",
   "execution_count": 64,
   "metadata": {
    "collapsed": false
   },
   "outputs": [
    {
     "name": "stdout",
     "output_type": "stream",
     "text": [
      "word2vec.FAST_VERSION 1\n",
      "2016-03-15 12:59:08 start iteration 1\n",
      "2016-03-15 12:59:14 start iteration 2\n",
      "2016-03-15 12:59:25 start iteration 3\n",
      "2016-03-15 12:59:37 start iteration 4\n",
      "2016-03-15 12:59:48 start iteration 5\n",
      "2016-03-15 13:00:00 start iteration 6\n",
      "2016-03-15 13:00:11 start iteration 7\n",
      "2016-03-15 13:00:23 start iteration 8\n",
      "2016-03-15 13:00:34 start iteration 9\n",
      "2016-03-15 13:00:45 start iteration 10\n",
      "2016-03-15 13:00:55 start iteration 11\n"
     ]
    }
   ],
   "source": [
    "from gensim.models.word2vec import Word2Vec, FAST_VERSION\n",
    "\n",
    "# make sure we can use all cores\n",
    "os.system(\"taskset -p 0xff %d\" % os.getpid())\n",
    "print (\"word2vec.FAST_VERSION\", FAST_VERSION)\n",
    "\n",
    "# train the model\n",
    "m = Word2Vec(NewsgroupIterator(), workers=4, size=256, window=5, min_count=2, iter=10)"
   ]
  },
  {
   "cell_type": "markdown",
   "metadata": {},
   "source": [
    "## Saving the model"
   ]
  },
  {
   "cell_type": "code",
   "execution_count": 66,
   "metadata": {
    "collapsed": false
   },
   "outputs": [
    {
     "name": "stdout",
     "output_type": "stream",
     "text": [
      "2016-03-15 13:01:10 Saving model...\n",
      "2016-03-15 13:01:22 done\n"
     ]
    }
   ],
   "source": [
    "print_log(\"Saving model...\")\n",
    "m.save_word2vec_format(\"newsgroups_w2v.model\")\n",
    "print_log(\"done\")"
   ]
  },
  {
   "cell_type": "markdown",
   "metadata": {},
   "source": [
    "## Using the model"
   ]
  },
  {
   "cell_type": "code",
   "execution_count": 67,
   "metadata": {
    "collapsed": false
   },
   "outputs": [
    {
     "data": {
      "text/plain": [
       "array([-0.16550805, -0.32571301, -0.95591217, -2.14804506,  2.25657916,\n",
       "       -0.20089439, -0.74087816,  1.01988864, -0.24207969, -2.35705972,\n",
       "       -0.12641022,  0.06372685,  0.65881741,  0.47903129,  0.05196929,\n",
       "        0.33446911, -2.20655894,  0.0183251 , -0.42534435,  1.41933274,\n",
       "        2.02105522,  0.28198084,  0.08037232, -0.21583037, -3.49729443,\n",
       "        1.47610402, -0.96690106, -2.5360465 ,  0.97365487, -2.02067065,\n",
       "       -0.59269911, -1.90242946, -2.1068418 , -1.02947664,  0.04239455,\n",
       "       -0.82397866,  0.39041638,  0.15510099, -0.04847286,  0.92273235,\n",
       "       -1.00195968, -0.63456023,  0.9105376 ,  0.67231762, -0.47721529,\n",
       "       -1.57983494,  1.04773879, -0.27772939, -0.88323915, -0.88461703,\n",
       "        0.3014482 ,  1.68624055,  2.91848946,  2.85907602, -0.96259266,\n",
       "        2.09554362,  2.08418679,  0.22845188, -0.55620462, -2.71090293,\n",
       "       -1.61427462, -0.40508148,  0.94375992, -0.70776701,  0.1709096 ,\n",
       "        0.48541191, -2.20617008, -0.57962573, -1.12773049, -1.3581841 ,\n",
       "       -0.56589913, -0.15618595,  2.23525858, -2.30839515, -1.3967942 ,\n",
       "        2.42364192,  0.53238571,  1.76439977, -1.50222826,  0.44597667,\n",
       "       -1.11148393, -2.2968564 , -0.38286996,  0.62342477,  1.0196991 ,\n",
       "        1.0164752 , -0.60184109, -1.09702921,  0.01838942, -2.17284203,\n",
       "       -0.87365681,  1.11840189,  2.41372466,  1.04804945, -0.3671957 ,\n",
       "        1.60328233, -1.81013668,  0.50942528,  0.73212147,  0.28970248,\n",
       "       -2.01362324, -0.0691019 ,  0.19729732, -1.65013587,  1.12653017,\n",
       "       -1.54749191, -2.51212955, -0.0866268 ,  0.7567808 ,  0.31581873,\n",
       "        1.66322899,  0.28665325, -0.32970119, -0.29094729, -2.60222197,\n",
       "       -0.01158656,  2.09853244, -0.11846518,  1.78117478, -3.31157327,\n",
       "       -1.405159  , -0.6964348 ,  0.75221437,  2.1309886 ,  1.17591012,\n",
       "        0.9552716 ,  1.24335265, -1.62413931,  0.93887752,  0.85958552,\n",
       "        1.13377404, -3.05425525,  1.52764475, -0.24025959, -0.46860012,\n",
       "        0.13858476, -0.08155383, -0.43938145, -0.6402505 ,  1.3900888 ,\n",
       "       -2.58375335,  0.27020484, -0.98776364,  1.64611411, -0.65026718,\n",
       "       -1.18169487,  0.73099536,  1.226578  , -0.0075882 , -0.64385927,\n",
       "       -3.16896296,  1.4473449 ,  0.85021722, -1.34450197,  0.38555634,\n",
       "       -0.19510975, -0.89802021, -0.63525712, -0.40823364,  1.81803489,\n",
       "        1.35689223, -0.07258824, -1.09545863,  0.17983402, -0.86787534,\n",
       "       -0.01068609,  0.17634264, -0.55845308, -0.49385327, -4.09888268,\n",
       "       -1.63517058, -0.18115084, -2.30357361,  0.29228115,  1.40016913,\n",
       "       -2.34799767, -1.24062693,  2.93422437, -0.66582173,  2.37865138,\n",
       "       -0.98982519,  0.95853317,  0.26939654, -2.64875126,  0.26009399,\n",
       "        1.61991   ,  1.25130916, -0.86914855,  1.0219115 , -0.50182962,\n",
       "        0.75355363, -0.24589856, -1.25300336,  1.97870851,  2.17958283,\n",
       "        1.48040295,  0.06726088,  2.36767197, -0.31378782,  1.70131803,\n",
       "        1.34368718,  0.8279174 , -0.89347744, -0.43013319,  0.198553  ,\n",
       "        0.35237834,  0.10768709, -2.6203537 ,  2.33433199, -0.9307158 ,\n",
       "       -1.0149492 , -0.40746662,  0.80830318,  0.89815104,  1.40989816,\n",
       "       -1.8303386 ,  1.64200091, -1.9452002 ,  0.25277066,  1.08602405,\n",
       "       -0.1971097 , -2.7380147 ,  0.07644161,  1.2300086 ,  0.2295073 ,\n",
       "       -1.4786818 ,  0.63349074, -0.27831468, -0.65924931,  0.91102558,\n",
       "        2.13194513, -0.05121959,  2.77873635, -1.38993144, -1.11461234,\n",
       "       -0.1886766 , -0.10403335,  0.17236531,  1.43144369, -0.82247478,\n",
       "        0.8917079 ,  0.95068735, -0.81458867, -1.9567523 ,  1.56306636,\n",
       "       -1.18738854,  0.52933818,  0.25258854,  0.69667953,  1.49007165,\n",
       "       -0.87643653, -1.59196353, -1.64579952,  0.4288536 , -1.55177593,\n",
       "        0.24670386], dtype=float32)"
      ]
     },
     "execution_count": 67,
     "metadata": {},
     "output_type": "execute_result"
    }
   ],
   "source": [
    "# word vectors!!\n",
    "\n",
    "m[\"computer\"]"
   ]
  },
  {
   "cell_type": "code",
   "execution_count": 75,
   "metadata": {
    "collapsed": false
   },
   "outputs": [
    {
     "data": {
      "text/plain": [
       "0.39825422751305117"
      ]
     },
     "execution_count": 75,
     "metadata": {},
     "output_type": "execute_result"
    }
   ],
   "source": [
    "m.similarity(\"computer\", \"laptop\")"
   ]
  },
  {
   "cell_type": "code",
   "execution_count": 69,
   "metadata": {
    "collapsed": false
   },
   "outputs": [
    {
     "data": {
      "text/plain": [
       "[(u'computing', 0.495266854763031),\n",
       " (u'computers', 0.4299651086330414),\n",
       " (u'electronics', 0.4242360293865204),\n",
       " (u'elsevier', 0.41329771280288696),\n",
       " (u'consulting', 0.4081593155860901),\n",
       " (u'silicon', 0.3996121287345886),\n",
       " (u'laptop', 0.39825403690338135),\n",
       " (u'accucorp', 0.39347150921821594),\n",
       " (u'sciplot3', 0.3866022229194641),\n",
       " (u'engineering', 0.38475874066352844),\n",
       " (u'library', 0.3831080198287964),\n",
       " (u'kubota', 0.378673791885376),\n",
       " (u'jurisprudence', 0.37765148282051086),\n",
       " (u'macintosh', 0.3754265010356903),\n",
       " (u'equipment', 0.36907872557640076)]"
      ]
     },
     "execution_count": 69,
     "metadata": {},
     "output_type": "execute_result"
    }
   ],
   "source": [
    "# what are similar words? \n",
    "\n",
    "m.most_similar(\"computer\", topn=15)"
   ]
  },
  {
   "cell_type": "code",
   "execution_count": 73,
   "metadata": {
    "collapsed": false
   },
   "outputs": [
    {
     "data": {
      "text/plain": [
       "[(u'wife', 0.7510499954223633),\n",
       " (u'sister', 0.7154536843299866),\n",
       " (u'daughter', 0.7080667018890381),\n",
       " (u'girlfriend', 0.665849506855011),\n",
       " (u'parents', 0.651865541934967)]"
      ]
     },
     "execution_count": 73,
     "metadata": {},
     "output_type": "execute_result"
    }
   ],
   "source": [
    "# man is to husband, as women is to ...?\n",
    "m.most_similar(positive=['husband', 'woman'], negative=['man'], topn=5)"
   ]
  },
  {
   "cell_type": "code",
   "execution_count": 76,
   "metadata": {
    "collapsed": false
   },
   "outputs": [
    {
     "data": {
      "text/plain": [
       "'god'"
      ]
     },
     "execution_count": 76,
     "metadata": {},
     "output_type": "execute_result"
    }
   ],
   "source": [
    "m.doesnt_match(\"computer laptop keyboard god mouse\".split())"
   ]
  },
  {
   "cell_type": "markdown",
   "metadata": {},
   "source": [
    "# Python Glove\n",
    "\n",
    "https://github.com/maciejkula/glove-python"
   ]
  },
  {
   "cell_type": "code",
   "execution_count": 84,
   "metadata": {
    "collapsed": false
   },
   "outputs": [
    {
     "name": "stdout",
     "output_type": "stream",
     "text": [
      "2016-03-15 13:14:32 start iteration 1\n",
      "2016-03-15 13:14:57 done\n"
     ]
    }
   ],
   "source": [
    "from glove import Corpus, Glove\n",
    "\n",
    "# construct cooccurrence matrix\n",
    "corpus = Corpus()\n",
    "corpus.fit(NewsgroupIterator(), window=5)\n",
    "print_log(\"done\")"
   ]
  },
  {
   "cell_type": "code",
   "execution_count": 85,
   "metadata": {
    "collapsed": false
   },
   "outputs": [
    {
     "name": "stdout",
     "output_type": "stream",
     "text": [
      "Performing 10 training epochs with 4 threads\n",
      "Epoch 0\n",
      "Epoch 1\n",
      "Epoch 2\n",
      "Epoch 3\n",
      "Epoch 4\n",
      "Epoch 5\n",
      "Epoch 6\n",
      "Epoch 7\n",
      "Epoch 8\n",
      "Epoch 9\n"
     ]
    }
   ],
   "source": [
    "# estimate word vectors\n",
    "glove = Glove(no_components=256, learning_rate=0.05)\n",
    "glove.fit(corpus.matrix, epochs=10, no_threads=4, verbose=True)"
   ]
  },
  {
   "cell_type": "code",
   "execution_count": 92,
   "metadata": {
    "collapsed": false
   },
   "outputs": [
    {
     "data": {
      "text/plain": [
       "[(u'science', 0.89918296733840353),\n",
       " (u'network', 0.88060740692864747),\n",
       " (u'engineering', 0.85806903858788452),\n",
       " (u'2889', 0.84464236575769325),\n",
       " (u'department', 0.81272189190230171),\n",
       " (u'itti', 0.80586921298082848),\n",
       " (u'17000', 0.79886706219844672),\n",
       " (u'shopper', 0.78064593552730444),\n",
       " (u'rootstown', 0.77613259021377812),\n",
       " (u'electrical', 0.76821284886960883),\n",
       " (u'justice', 0.76297296789446867),\n",
       " (u'tech', 0.76148038752750691),\n",
       " (u'inc', 0.75542088607981894),\n",
       " (u'systems', 0.7543458068772888)]"
      ]
     },
     "execution_count": 92,
     "metadata": {},
     "output_type": "execute_result"
    }
   ],
   "source": [
    "# supply a word-id dictionary to allow similarity queries\n",
    "glove.add_dictionary(corpus.dictionary)\n",
    "glove.most_similar('computer', number=15)"
   ]
  },
  {
   "cell_type": "code",
   "execution_count": 91,
   "metadata": {
    "collapsed": false
   },
   "outputs": [
    {
     "data": {
      "text/plain": [
       "array([-0.15294618, -0.16229331,  0.22968242, -0.06935435, -0.204179  ,\n",
       "        0.15189339, -0.05116937, -0.04714758,  0.0928095 , -0.15227175,\n",
       "       -0.13257226,  0.13242168,  0.22263267, -0.08370977, -0.09147217,\n",
       "        0.05804088, -0.11254168,  0.15175754,  0.02864283,  0.09036119,\n",
       "        0.19627194, -0.17712955,  0.11455667,  0.1828292 ,  0.16317328,\n",
       "       -0.1469712 ,  0.07998185, -0.17448186,  0.15504458, -0.17607112,\n",
       "       -0.21379806,  0.22414729, -0.11081201,  0.26255771, -0.23617736,\n",
       "        0.0021399 ,  0.03964508, -0.27294068, -0.14710344, -0.25980023,\n",
       "        0.17566646, -0.29988554,  0.07406638, -0.1086188 , -0.22955877,\n",
       "        0.30700018,  0.075993  , -0.17794391,  0.19875335,  0.09574942,\n",
       "        0.20711149,  0.1396056 ,  0.1804984 ,  0.14014868,  0.11824339,\n",
       "       -0.16659382,  0.17253023, -0.20879712, -0.16514559, -0.06563502,\n",
       "        0.23446966,  0.17092721, -0.15885723,  0.08113689,  0.02683762,\n",
       "       -0.06619163,  0.05324607,  0.0826638 , -0.12250659, -0.13091065,\n",
       "        0.17404595, -0.05498289, -0.08160509, -0.08593208,  0.13603374,\n",
       "        0.13838083, -0.12755501,  0.0975254 ,  0.00276518,  0.183362  ,\n",
       "        0.06823091,  0.11210576,  0.16508857, -0.47214747, -0.00721275,\n",
       "       -0.1801582 ,  0.0039278 , -0.13549832,  0.16428135,  0.00646636,\n",
       "        0.14216606,  0.1593189 ,  0.09956546, -0.2527128 ,  0.25217162,\n",
       "        0.14310345, -0.20520302, -0.0876152 ,  0.04966772, -0.20570989,\n",
       "       -0.11086865, -0.24520667, -0.22622662,  0.08945503, -0.22144386,\n",
       "        0.04360386, -0.19839773,  0.10270612,  0.0724432 , -0.00329887,\n",
       "       -0.26760629,  0.1172412 , -0.10135693,  0.11265958, -0.19783542,\n",
       "        0.03170257,  0.00685389,  0.19282003, -0.19329442,  0.13578749,\n",
       "        0.16297458,  0.21107643,  0.08692829, -0.0069083 ,  0.2076921 ,\n",
       "       -0.08363837,  0.17044979, -0.18803222,  0.13667571, -0.13055638,\n",
       "       -0.02120367,  0.18892191, -0.21095692, -0.01532894,  0.13643874,\n",
       "        0.12026228,  0.15420166, -0.14988417,  0.04979677,  0.17646824,\n",
       "       -0.0722498 , -0.31280103,  0.0219801 ,  0.16505035,  0.1444655 ,\n",
       "       -0.21094886, -0.04731173,  0.10353115,  0.16479713,  0.00444907,\n",
       "        0.22358283, -0.19535512, -0.24533126, -0.03328281,  0.14707993,\n",
       "        0.05580846, -0.14022195,  0.23903443, -0.17126736, -0.17020545,\n",
       "       -0.18694377, -0.09933284, -0.03855355, -0.21183435,  0.21675197,\n",
       "       -0.00335821,  0.02004248,  0.08826209,  0.20550512,  0.07752961,\n",
       "       -0.11906359,  0.20474671, -0.0852785 ,  0.08419334,  0.14312735,\n",
       "       -0.11124092,  0.22016499,  0.27836406,  0.24087964,  0.17258916,\n",
       "        0.50021165,  0.11200784, -0.17543522, -0.13033293, -0.04423342,\n",
       "       -0.36750085, -0.07366987, -0.21226189,  0.09926916,  0.1081614 ,\n",
       "       -0.16050604, -0.06807393,  0.16647364,  0.04707517,  0.27679974,\n",
       "        0.16842859,  0.14747828,  0.0719631 , -0.07025791,  0.2134956 ,\n",
       "        0.09703063, -0.06977408,  0.00970184, -0.2494779 ,  0.20188829,\n",
       "       -0.08387321,  0.1469217 , -0.15701922,  0.14671362,  0.13231204,\n",
       "       -0.16314505,  0.12199301,  0.24730335,  0.10016615, -0.0790378 ,\n",
       "        0.20660416,  0.03856933, -0.11522268,  0.11259349, -0.3595807 ,\n",
       "        0.05503745, -0.20577837,  0.09898058,  0.09932289,  0.1903544 ,\n",
       "       -0.07727398, -0.10336208, -0.1831683 , -0.10753237,  0.10444486,\n",
       "       -0.13072599, -0.10035107,  0.14232474, -0.03129206,  0.10716466,\n",
       "        0.22650102, -0.34753953, -0.06513085,  0.06247936, -0.19591756,\n",
       "       -0.10671114,  0.04473731,  0.00548535,  0.14086061, -0.27068804,\n",
       "       -0.12724503, -0.03623085,  0.09765112,  0.07359638,  0.18897024,\n",
       "        0.11209462,  0.1780359 , -0.27135602,  0.08211785,  0.10371573,\n",
       "       -0.13154008])"
      ]
     },
     "execution_count": 91,
     "metadata": {},
     "output_type": "execute_result"
    }
   ],
   "source": [
    "word_idx = corpus.dictionary[\"computer\"]\n",
    "glove.word_vectors[word_idx]"
   ]
  }
 ],
 "metadata": {
  "kernelspec": {
   "display_name": "Python 2",
   "language": "python",
   "name": "python2"
  },
  "language_info": {
   "codemirror_mode": {
    "name": "ipython",
    "version": 2
   },
   "file_extension": ".py",
   "mimetype": "text/x-python",
   "name": "python",
   "nbconvert_exporter": "python",
   "pygments_lexer": "ipython2",
   "version": "2.7.6"
  }
 },
 "nbformat": 4,
 "nbformat_minor": 0
}
